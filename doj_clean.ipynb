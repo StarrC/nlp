{
 "cells": [
  {
   "cell_type": "markdown",
   "id": "90bc0f91",
   "metadata": {},
   "source": [
    "## References\n",
    "\n",
    "Pre-Processing for NLP: https://towardsdatascience.com/text-cleaning-methods-for-natural-language-processing-f2fc1796e8c7"
   ]
  },
  {
   "cell_type": "code",
   "execution_count": 118,
   "id": "aa35fd56",
   "metadata": {},
   "outputs": [],
   "source": [
    "import pandas as pd\n",
    "import numpy as np"
   ]
  },
  {
   "cell_type": "markdown",
   "id": "9e6fa3d4",
   "metadata": {},
   "source": [
    "## Load the data"
   ]
  },
  {
   "cell_type": "code",
   "execution_count": 119,
   "id": "5c8eede6",
   "metadata": {},
   "outputs": [],
   "source": [
    "data=pd.read_table('doj_api_data_new.csv',delimiter=',')"
   ]
  },
  {
   "cell_type": "code",
   "execution_count": 120,
   "id": "a4d8bc39",
   "metadata": {},
   "outputs": [
    {
     "name": "stdout",
     "output_type": "stream",
     "text": [
      "       Unnamed: 0                                               body\n",
      "0               0  WASHINGTON - INTERPOL Washington, the United S...\n",
      "1               1  WASHINGTON - A joint investigation between the...\n",
      "2               2  USDOJ: INTERPOL Washington: Updates\\n\\n \\n\\nDe...\n",
      "3               3  USDOJ: INTERPOL Washington: Updates\\n\\n \\n\\n\\n...\n",
      "4               4  WASHINGTON - The United States has extradited ...\n",
      "...           ...                                                ...\n",
      "48045       48045  DENVER – Francis Hector Calar, age 54, of Colo...\n",
      "48046       48046  WICHITA, KAN. – A former director of the Montg...\n",
      "48047       48047  WASHINGTON –William Smallwood, 23, has been se...\n",
      "48048       48048  SPRINGFIELD, Mo. – Tammy Dickinson, United Sta...\n",
      "48049       48049  SPRINGFIELD, Mo. – Tammy Dickinson, United Sta...\n",
      "\n",
      "[48050 rows x 2 columns]\n"
     ]
    }
   ],
   "source": [
    "print(data)"
   ]
  },
  {
   "cell_type": "code",
   "execution_count": 121,
   "id": "5a628ef4",
   "metadata": {},
   "outputs": [
    {
     "data": {
      "text/html": [
       "<div>\n",
       "<style scoped>\n",
       "    .dataframe tbody tr th:only-of-type {\n",
       "        vertical-align: middle;\n",
       "    }\n",
       "\n",
       "    .dataframe tbody tr th {\n",
       "        vertical-align: top;\n",
       "    }\n",
       "\n",
       "    .dataframe thead th {\n",
       "        text-align: right;\n",
       "    }\n",
       "</style>\n",
       "<table border=\"1\" class=\"dataframe\">\n",
       "  <thead>\n",
       "    <tr style=\"text-align: right;\">\n",
       "      <th></th>\n",
       "      <th>Unnamed: 0</th>\n",
       "      <th>body</th>\n",
       "    </tr>\n",
       "  </thead>\n",
       "  <tbody>\n",
       "    <tr>\n",
       "      <th>0</th>\n",
       "      <td>0</td>\n",
       "      <td>WASHINGTON - INTERPOL Washington, the United S...</td>\n",
       "    </tr>\n",
       "    <tr>\n",
       "      <th>1</th>\n",
       "      <td>1</td>\n",
       "      <td>WASHINGTON - A joint investigation between the...</td>\n",
       "    </tr>\n",
       "    <tr>\n",
       "      <th>2</th>\n",
       "      <td>2</td>\n",
       "      <td>USDOJ: INTERPOL Washington: Updates\\n\\n \\n\\nDe...</td>\n",
       "    </tr>\n",
       "    <tr>\n",
       "      <th>3</th>\n",
       "      <td>3</td>\n",
       "      <td>USDOJ: INTERPOL Washington: Updates\\n\\n \\n\\n\\n...</td>\n",
       "    </tr>\n",
       "    <tr>\n",
       "      <th>4</th>\n",
       "      <td>4</td>\n",
       "      <td>WASHINGTON - The United States has extradited ...</td>\n",
       "    </tr>\n",
       "  </tbody>\n",
       "</table>\n",
       "</div>"
      ],
      "text/plain": [
       "   Unnamed: 0                                               body\n",
       "0           0  WASHINGTON - INTERPOL Washington, the United S...\n",
       "1           1  WASHINGTON - A joint investigation between the...\n",
       "2           2  USDOJ: INTERPOL Washington: Updates\\n\\n \\n\\nDe...\n",
       "3           3  USDOJ: INTERPOL Washington: Updates\\n\\n \\n\\n\\n...\n",
       "4           4  WASHINGTON - The United States has extradited ..."
      ]
     },
     "execution_count": 121,
     "metadata": {},
     "output_type": "execute_result"
    }
   ],
   "source": [
    "data.head()"
   ]
  },
  {
   "cell_type": "code",
   "execution_count": 122,
   "id": "b13d4e00",
   "metadata": {},
   "outputs": [
    {
     "name": "stdout",
     "output_type": "stream",
     "text": [
      "There are 48050 rows and 2 columns.\n"
     ]
    }
   ],
   "source": [
    "print(f'There are {data.shape[0]} rows and {data.shape[1]} columns.')  # f-string"
   ]
  },
  {
   "cell_type": "code",
   "execution_count": 102,
   "id": "0de67d8e",
   "metadata": {},
   "outputs": [
    {
     "data": {
      "text/plain": [
       "<bound method NDFrame.head of        Unnamed: 0                                               body\n",
       "0               0  WASHINGTON - INTERPOL Washington, the United S...\n",
       "1               1  WASHINGTON - A joint investigation between the...\n",
       "2               2  USDOJ: INTERPOL Washington: Updates\\n\\n \\n\\nDe...\n",
       "3               3  USDOJ: INTERPOL Washington: Updates\\n\\n \\n\\n\\n...\n",
       "4               4  WASHINGTON - The United States has extradited ...\n",
       "...           ...                                                ...\n",
       "48045       48045  DENVER – Francis Hector Calar, age 54, of Colo...\n",
       "48046       48046  WICHITA, KAN. – A former director of the Montg...\n",
       "48047       48047  WASHINGTON –William Smallwood, 23, has been se...\n",
       "48048       48048  SPRINGFIELD, Mo. – Tammy Dickinson, United Sta...\n",
       "48049       48049  SPRINGFIELD, Mo. – Tammy Dickinson, United Sta...\n",
       "\n",
       "[48050 rows x 2 columns]>"
      ]
     },
     "execution_count": 102,
     "metadata": {},
     "output_type": "execute_result"
    }
   ],
   "source": [
    "data.head"
   ]
  },
  {
   "cell_type": "markdown",
   "id": "4b4b2822",
   "metadata": {},
   "source": [
    "## Describe the data\n",
    "This function returns the count, mean, standard deviation, minimum and maximum values and the quantiles of the data."
   ]
  },
  {
   "cell_type": "code",
   "execution_count": 103,
   "id": "a51b0527",
   "metadata": {},
   "outputs": [
    {
     "data": {
      "text/html": [
       "<div>\n",
       "<style scoped>\n",
       "    .dataframe tbody tr th:only-of-type {\n",
       "        vertical-align: middle;\n",
       "    }\n",
       "\n",
       "    .dataframe tbody tr th {\n",
       "        vertical-align: top;\n",
       "    }\n",
       "\n",
       "    .dataframe thead th {\n",
       "        text-align: right;\n",
       "    }\n",
       "</style>\n",
       "<table border=\"1\" class=\"dataframe\">\n",
       "  <thead>\n",
       "    <tr style=\"text-align: right;\">\n",
       "      <th></th>\n",
       "      <th>Unnamed: 0</th>\n",
       "    </tr>\n",
       "  </thead>\n",
       "  <tbody>\n",
       "    <tr>\n",
       "      <th>count</th>\n",
       "      <td>48050.000000</td>\n",
       "    </tr>\n",
       "    <tr>\n",
       "      <th>mean</th>\n",
       "      <td>24024.500000</td>\n",
       "    </tr>\n",
       "    <tr>\n",
       "      <th>std</th>\n",
       "      <td>13870.984554</td>\n",
       "    </tr>\n",
       "    <tr>\n",
       "      <th>min</th>\n",
       "      <td>0.000000</td>\n",
       "    </tr>\n",
       "    <tr>\n",
       "      <th>25%</th>\n",
       "      <td>12012.250000</td>\n",
       "    </tr>\n",
       "    <tr>\n",
       "      <th>50%</th>\n",
       "      <td>24024.500000</td>\n",
       "    </tr>\n",
       "    <tr>\n",
       "      <th>75%</th>\n",
       "      <td>36036.750000</td>\n",
       "    </tr>\n",
       "    <tr>\n",
       "      <th>max</th>\n",
       "      <td>48049.000000</td>\n",
       "    </tr>\n",
       "  </tbody>\n",
       "</table>\n",
       "</div>"
      ],
      "text/plain": [
       "         Unnamed: 0\n",
       "count  48050.000000\n",
       "mean   24024.500000\n",
       "std    13870.984554\n",
       "min        0.000000\n",
       "25%    12012.250000\n",
       "50%    24024.500000\n",
       "75%    36036.750000\n",
       "max    48049.000000"
      ]
     },
     "execution_count": 103,
     "metadata": {},
     "output_type": "execute_result"
    }
   ],
   "source": [
    "data.describe()"
   ]
  },
  {
   "cell_type": "code",
   "execution_count": 104,
   "id": "0b7e7067",
   "metadata": {},
   "outputs": [
    {
     "name": "stdout",
     "output_type": "stream",
     "text": [
      "There are 48050 rows and 2 columns.\n"
     ]
    }
   ],
   "source": [
    "print(f'There are {data.shape[0]} rows and {data.shape[1]} columns.')  # f-string"
   ]
  },
  {
   "cell_type": "code",
   "execution_count": 105,
   "id": "eafbcecb",
   "metadata": {},
   "outputs": [
    {
     "name": "stdout",
     "output_type": "stream",
     "text": [
      "<class 'pandas.core.frame.DataFrame'>\n",
      "RangeIndex: 48050 entries, 0 to 48049\n",
      "Data columns (total 2 columns):\n",
      " #   Column      Non-Null Count  Dtype \n",
      "---  ------      --------------  ----- \n",
      " 0   Unnamed: 0  48050 non-null  int64 \n",
      " 1   body        48050 non-null  object\n",
      "dtypes: int64(1), object(1)\n",
      "memory usage: 750.9+ KB\n"
     ]
    }
   ],
   "source": [
    "data.info() "
   ]
  },
  {
   "cell_type": "code",
   "execution_count": 106,
   "id": "d7410e8a",
   "metadata": {},
   "outputs": [
    {
     "data": {
      "text/html": [
       "<div>\n",
       "<style scoped>\n",
       "    .dataframe tbody tr th:only-of-type {\n",
       "        vertical-align: middle;\n",
       "    }\n",
       "\n",
       "    .dataframe tbody tr th {\n",
       "        vertical-align: top;\n",
       "    }\n",
       "\n",
       "    .dataframe thead th {\n",
       "        text-align: right;\n",
       "    }\n",
       "</style>\n",
       "<table border=\"1\" class=\"dataframe\">\n",
       "  <thead>\n",
       "    <tr style=\"text-align: right;\">\n",
       "      <th></th>\n",
       "      <th>body</th>\n",
       "    </tr>\n",
       "  </thead>\n",
       "  <tbody>\n",
       "    <tr>\n",
       "      <th>0</th>\n",
       "      <td>WASHINGTON - INTERPOL Washington, the United S...</td>\n",
       "    </tr>\n",
       "    <tr>\n",
       "      <th>1</th>\n",
       "      <td>WASHINGTON - A joint investigation between the...</td>\n",
       "    </tr>\n",
       "    <tr>\n",
       "      <th>2</th>\n",
       "      <td>USDOJ: INTERPOL Washington: Updates\\n\\n \\n\\nDe...</td>\n",
       "    </tr>\n",
       "    <tr>\n",
       "      <th>3</th>\n",
       "      <td>USDOJ: INTERPOL Washington: Updates\\n\\n \\n\\n\\n...</td>\n",
       "    </tr>\n",
       "    <tr>\n",
       "      <th>4</th>\n",
       "      <td>WASHINGTON - The United States has extradited ...</td>\n",
       "    </tr>\n",
       "    <tr>\n",
       "      <th>...</th>\n",
       "      <td>...</td>\n",
       "    </tr>\n",
       "    <tr>\n",
       "      <th>48045</th>\n",
       "      <td>DENVER – Francis Hector Calar, age 54, of Colo...</td>\n",
       "    </tr>\n",
       "    <tr>\n",
       "      <th>48046</th>\n",
       "      <td>WICHITA, KAN. – A former director of the Montg...</td>\n",
       "    </tr>\n",
       "    <tr>\n",
       "      <th>48047</th>\n",
       "      <td>WASHINGTON –William Smallwood, 23, has been se...</td>\n",
       "    </tr>\n",
       "    <tr>\n",
       "      <th>48048</th>\n",
       "      <td>SPRINGFIELD, Mo. – Tammy Dickinson, United Sta...</td>\n",
       "    </tr>\n",
       "    <tr>\n",
       "      <th>48049</th>\n",
       "      <td>SPRINGFIELD, Mo. – Tammy Dickinson, United Sta...</td>\n",
       "    </tr>\n",
       "  </tbody>\n",
       "</table>\n",
       "<p>48050 rows × 1 columns</p>\n",
       "</div>"
      ],
      "text/plain": [
       "                                                    body\n",
       "0      WASHINGTON - INTERPOL Washington, the United S...\n",
       "1      WASHINGTON - A joint investigation between the...\n",
       "2      USDOJ: INTERPOL Washington: Updates\\n\\n \\n\\nDe...\n",
       "3      USDOJ: INTERPOL Washington: Updates\\n\\n \\n\\n\\n...\n",
       "4      WASHINGTON - The United States has extradited ...\n",
       "...                                                  ...\n",
       "48045  DENVER – Francis Hector Calar, age 54, of Colo...\n",
       "48046  WICHITA, KAN. – A former director of the Montg...\n",
       "48047  WASHINGTON –William Smallwood, 23, has been se...\n",
       "48048  SPRINGFIELD, Mo. – Tammy Dickinson, United Sta...\n",
       "48049  SPRINGFIELD, Mo. – Tammy Dickinson, United Sta...\n",
       "\n",
       "[48050 rows x 1 columns]"
      ]
     },
     "execution_count": 106,
     "metadata": {},
     "output_type": "execute_result"
    }
   ],
   "source": [
    "data.drop(data.columns[0], axis=1)"
   ]
  },
  {
   "cell_type": "code",
   "execution_count": 107,
   "id": "231d7e42",
   "metadata": {},
   "outputs": [
    {
     "data": {
      "text/plain": [
       "Unnamed: 0    0\n",
       "body          0\n",
       "dtype: int64"
      ]
     },
     "execution_count": 107,
     "metadata": {},
     "output_type": "execute_result"
    }
   ],
   "source": [
    "data.isnull().sum() # lots of columns don't have missingness"
   ]
  },
  {
   "cell_type": "markdown",
   "id": "59617d4d",
   "metadata": {},
   "source": [
    "## Pre-Processing\n",
    "### Normalization"
   ]
  },
  {
   "cell_type": "code",
   "execution_count": 108,
   "id": "2c813105",
   "metadata": {},
   "outputs": [],
   "source": [
    "train_data = pd.read_csv('doj_api_data_new.csv')"
   ]
  },
  {
   "cell_type": "code",
   "execution_count": 109,
   "id": "52638365",
   "metadata": {},
   "outputs": [],
   "source": [
    "import re\n",
    "\n",
    "def  clean_text(data, text_field, new_text_field_name):\n",
    "    data[new_text_field_name] = data[text_field].str.lower()\n",
    "    data[new_text_field_name] = data[new_text_field_name].apply(lambda elem: re.sub(r\"(@[A-Za-z0-9]+)|([^0-9A-Za-z \\t])|(\\w+:\\/\\/\\S+)|^rt|http.+?\", \"\", elem))  \n",
    "    # remove numbers\n",
    "    data[new_text_field_name] = data[new_text_field_name].apply(lambda elem: re.sub(r\"\\d+\", \"\", elem))\n",
    "    \n",
    "    return data"
   ]
  },
  {
   "cell_type": "code",
   "execution_count": 110,
   "id": "d0df2fb6",
   "metadata": {},
   "outputs": [
    {
     "data": {
      "text/html": [
       "<div>\n",
       "<style scoped>\n",
       "    .dataframe tbody tr th:only-of-type {\n",
       "        vertical-align: middle;\n",
       "    }\n",
       "\n",
       "    .dataframe tbody tr th {\n",
       "        vertical-align: top;\n",
       "    }\n",
       "\n",
       "    .dataframe thead th {\n",
       "        text-align: right;\n",
       "    }\n",
       "</style>\n",
       "<table border=\"1\" class=\"dataframe\">\n",
       "  <thead>\n",
       "    <tr style=\"text-align: right;\">\n",
       "      <th></th>\n",
       "      <th>Unnamed: 0</th>\n",
       "      <th>body</th>\n",
       "      <th>text_clean</th>\n",
       "    </tr>\n",
       "  </thead>\n",
       "  <tbody>\n",
       "    <tr>\n",
       "      <th>0</th>\n",
       "      <td>0</td>\n",
       "      <td>WASHINGTON - INTERPOL Washington, the United S...</td>\n",
       "      <td>washington  interpol washington the united sta...</td>\n",
       "    </tr>\n",
       "    <tr>\n",
       "      <th>1</th>\n",
       "      <td>1</td>\n",
       "      <td>WASHINGTON - A joint investigation between the...</td>\n",
       "      <td>washington  a joint investigation between the ...</td>\n",
       "    </tr>\n",
       "    <tr>\n",
       "      <th>2</th>\n",
       "      <td>2</td>\n",
       "      <td>USDOJ: INTERPOL Washington: Updates\\n\\n \\n\\nDe...</td>\n",
       "      <td>usdoj interpol washington updatesdepartment of...</td>\n",
       "    </tr>\n",
       "    <tr>\n",
       "      <th>3</th>\n",
       "      <td>3</td>\n",
       "      <td>USDOJ: INTERPOL Washington: Updates\\n\\n \\n\\n\\n...</td>\n",
       "      <td>usdoj interpol washington updatesdepartment of...</td>\n",
       "    </tr>\n",
       "    <tr>\n",
       "      <th>4</th>\n",
       "      <td>4</td>\n",
       "      <td>WASHINGTON - The United States has extradited ...</td>\n",
       "      <td>washington  the united states has extradited s...</td>\n",
       "    </tr>\n",
       "  </tbody>\n",
       "</table>\n",
       "</div>"
      ],
      "text/plain": [
       "   Unnamed: 0                                               body   \n",
       "0           0  WASHINGTON - INTERPOL Washington, the United S...  \\\n",
       "1           1  WASHINGTON - A joint investigation between the...   \n",
       "2           2  USDOJ: INTERPOL Washington: Updates\\n\\n \\n\\nDe...   \n",
       "3           3  USDOJ: INTERPOL Washington: Updates\\n\\n \\n\\n\\n...   \n",
       "4           4  WASHINGTON - The United States has extradited ...   \n",
       "\n",
       "                                          text_clean  \n",
       "0  washington  interpol washington the united sta...  \n",
       "1  washington  a joint investigation between the ...  \n",
       "2  usdoj interpol washington updatesdepartment of...  \n",
       "3  usdoj interpol washington updatesdepartment of...  \n",
       "4  washington  the united states has extradited s...  "
      ]
     },
     "execution_count": 110,
     "metadata": {},
     "output_type": "execute_result"
    }
   ],
   "source": [
    "data_clean = clean_text(train_data, 'body', 'text_clean')\n",
    "\n",
    "data_clean.head()"
   ]
  },
  {
   "cell_type": "markdown",
   "id": "d562afbc",
   "metadata": {},
   "source": [
    "### Stop Words"
   ]
  },
  {
   "cell_type": "code",
   "execution_count": 111,
   "id": "fb7881f3",
   "metadata": {},
   "outputs": [
    {
     "name": "stderr",
     "output_type": "stream",
     "text": [
      "[nltk_data] Downloading package stopwords to\n",
      "[nltk_data]     /Users/starrcorbin/nltk_data...\n",
      "[nltk_data]   Package stopwords is already up-to-date!\n"
     ]
    },
    {
     "data": {
      "text/html": [
       "<div>\n",
       "<style scoped>\n",
       "    .dataframe tbody tr th:only-of-type {\n",
       "        vertical-align: middle;\n",
       "    }\n",
       "\n",
       "    .dataframe tbody tr th {\n",
       "        vertical-align: top;\n",
       "    }\n",
       "\n",
       "    .dataframe thead th {\n",
       "        text-align: right;\n",
       "    }\n",
       "</style>\n",
       "<table border=\"1\" class=\"dataframe\">\n",
       "  <thead>\n",
       "    <tr style=\"text-align: right;\">\n",
       "      <th></th>\n",
       "      <th>Unnamed: 0</th>\n",
       "      <th>body</th>\n",
       "      <th>text_clean</th>\n",
       "    </tr>\n",
       "  </thead>\n",
       "  <tbody>\n",
       "    <tr>\n",
       "      <th>0</th>\n",
       "      <td>0</td>\n",
       "      <td>WASHINGTON - INTERPOL Washington, the United S...</td>\n",
       "      <td>washington interpol washington united states n...</td>\n",
       "    </tr>\n",
       "    <tr>\n",
       "      <th>1</th>\n",
       "      <td>1</td>\n",
       "      <td>WASHINGTON - A joint investigation between the...</td>\n",
       "      <td>washington joint investigation national oceani...</td>\n",
       "    </tr>\n",
       "    <tr>\n",
       "      <th>2</th>\n",
       "      <td>2</td>\n",
       "      <td>USDOJ: INTERPOL Washington: Updates\\n\\n \\n\\nDe...</td>\n",
       "      <td>usdoj interpol washington updatesdepartment ju...</td>\n",
       "    </tr>\n",
       "    <tr>\n",
       "      <th>3</th>\n",
       "      <td>3</td>\n",
       "      <td>USDOJ: INTERPOL Washington: Updates\\n\\n \\n\\n\\n...</td>\n",
       "      <td>usdoj interpol washington updatesdepartment ju...</td>\n",
       "    </tr>\n",
       "    <tr>\n",
       "      <th>4</th>\n",
       "      <td>4</td>\n",
       "      <td>WASHINGTON - The United States has extradited ...</td>\n",
       "      <td>washington united states extradited sulejman m...</td>\n",
       "    </tr>\n",
       "  </tbody>\n",
       "</table>\n",
       "</div>"
      ],
      "text/plain": [
       "   Unnamed: 0                                               body   \n",
       "0           0  WASHINGTON - INTERPOL Washington, the United S...  \\\n",
       "1           1  WASHINGTON - A joint investigation between the...   \n",
       "2           2  USDOJ: INTERPOL Washington: Updates\\n\\n \\n\\nDe...   \n",
       "3           3  USDOJ: INTERPOL Washington: Updates\\n\\n \\n\\n\\n...   \n",
       "4           4  WASHINGTON - The United States has extradited ...   \n",
       "\n",
       "                                          text_clean  \n",
       "0  washington interpol washington united states n...  \n",
       "1  washington joint investigation national oceani...  \n",
       "2  usdoj interpol washington updatesdepartment ju...  \n",
       "3  usdoj interpol washington updatesdepartment ju...  \n",
       "4  washington united states extradited sulejman m...  "
      ]
     },
     "execution_count": 111,
     "metadata": {},
     "output_type": "execute_result"
    }
   ],
   "source": [
    "import nltk.corpus\n",
    "nltk.download('stopwords')\n",
    "from nltk.corpus import stopwords\n",
    "stop = stopwords.words('english')\n",
    "data_clean['text_clean'] = data_clean['text_clean'].apply(lambda x: ' '.join([word for word in x.split() if word not in (stop)]))\n",
    "data_clean.head()"
   ]
  },
  {
   "cell_type": "markdown",
   "id": "721519b3",
   "metadata": {},
   "source": [
    "### Stemming and Tokenization\n",
    "Use the PorterStemmer to stem words to reduce words to their root form. "
   ]
  },
  {
   "cell_type": "code",
   "execution_count": 112,
   "id": "8bb922ab",
   "metadata": {},
   "outputs": [
    {
     "name": "stderr",
     "output_type": "stream",
     "text": [
      "[nltk_data] Downloading package punkt to\n",
      "[nltk_data]     /Users/starrcorbin/nltk_data...\n",
      "[nltk_data]   Package punkt is already up-to-date!\n"
     ]
    },
    {
     "data": {
      "text/html": [
       "<div>\n",
       "<style scoped>\n",
       "    .dataframe tbody tr th:only-of-type {\n",
       "        vertical-align: middle;\n",
       "    }\n",
       "\n",
       "    .dataframe tbody tr th {\n",
       "        vertical-align: top;\n",
       "    }\n",
       "\n",
       "    .dataframe thead th {\n",
       "        text-align: right;\n",
       "    }\n",
       "</style>\n",
       "<table border=\"1\" class=\"dataframe\">\n",
       "  <thead>\n",
       "    <tr style=\"text-align: right;\">\n",
       "      <th></th>\n",
       "      <th>Unnamed: 0</th>\n",
       "      <th>body</th>\n",
       "      <th>text_clean</th>\n",
       "      <th>text_tokens</th>\n",
       "    </tr>\n",
       "  </thead>\n",
       "  <tbody>\n",
       "    <tr>\n",
       "      <th>0</th>\n",
       "      <td>0</td>\n",
       "      <td>WASHINGTON - INTERPOL Washington, the United S...</td>\n",
       "      <td>washington interpol washington united states n...</td>\n",
       "      <td>[washington, interpol, washington, united, sta...</td>\n",
       "    </tr>\n",
       "    <tr>\n",
       "      <th>1</th>\n",
       "      <td>1</td>\n",
       "      <td>WASHINGTON - A joint investigation between the...</td>\n",
       "      <td>washington joint investigation national oceani...</td>\n",
       "      <td>[washington, joint, investigation, national, o...</td>\n",
       "    </tr>\n",
       "    <tr>\n",
       "      <th>2</th>\n",
       "      <td>2</td>\n",
       "      <td>USDOJ: INTERPOL Washington: Updates\\n\\n \\n\\nDe...</td>\n",
       "      <td>usdoj interpol washington updatesdepartment ju...</td>\n",
       "      <td>[usdoj, interpol, washington, updatesdepartmen...</td>\n",
       "    </tr>\n",
       "    <tr>\n",
       "      <th>3</th>\n",
       "      <td>3</td>\n",
       "      <td>USDOJ: INTERPOL Washington: Updates\\n\\n \\n\\n\\n...</td>\n",
       "      <td>usdoj interpol washington updatesdepartment ju...</td>\n",
       "      <td>[usdoj, interpol, washington, updatesdepartmen...</td>\n",
       "    </tr>\n",
       "    <tr>\n",
       "      <th>4</th>\n",
       "      <td>4</td>\n",
       "      <td>WASHINGTON - The United States has extradited ...</td>\n",
       "      <td>washington united states extradited sulejman m...</td>\n",
       "      <td>[washington, united, states, extradited, sulej...</td>\n",
       "    </tr>\n",
       "  </tbody>\n",
       "</table>\n",
       "</div>"
      ],
      "text/plain": [
       "   Unnamed: 0                                               body   \n",
       "0           0  WASHINGTON - INTERPOL Washington, the United S...  \\\n",
       "1           1  WASHINGTON - A joint investigation between the...   \n",
       "2           2  USDOJ: INTERPOL Washington: Updates\\n\\n \\n\\nDe...   \n",
       "3           3  USDOJ: INTERPOL Washington: Updates\\n\\n \\n\\n\\n...   \n",
       "4           4  WASHINGTON - The United States has extradited ...   \n",
       "\n",
       "                                          text_clean   \n",
       "0  washington interpol washington united states n...  \\\n",
       "1  washington joint investigation national oceani...   \n",
       "2  usdoj interpol washington updatesdepartment ju...   \n",
       "3  usdoj interpol washington updatesdepartment ju...   \n",
       "4  washington united states extradited sulejman m...   \n",
       "\n",
       "                                         text_tokens  \n",
       "0  [washington, interpol, washington, united, sta...  \n",
       "1  [washington, joint, investigation, national, o...  \n",
       "2  [usdoj, interpol, washington, updatesdepartmen...  \n",
       "3  [usdoj, interpol, washington, updatesdepartmen...  \n",
       "4  [washington, united, states, extradited, sulej...  "
      ]
     },
     "execution_count": 112,
     "metadata": {},
     "output_type": "execute_result"
    }
   ],
   "source": [
    "import nltk \n",
    "nltk.download('punkt')\n",
    "from nltk.tokenize import sent_tokenize, word_tokenize\n",
    "data_clean['text_tokens'] = data_clean['text_clean'].apply(lambda x: word_tokenize(x))\n",
    "data_clean.head()"
   ]
  },
  {
   "cell_type": "markdown",
   "id": "eb8b0b02",
   "metadata": {},
   "source": [
    "The code below uses the PorterStemmer method from NLTK to apply stemming to the text_tokens and outputs the processed text to a new column."
   ]
  },
  {
   "cell_type": "code",
   "execution_count": 113,
   "id": "2aa3ea0d",
   "metadata": {},
   "outputs": [],
   "source": [
    "from nltk.stem import PorterStemmer \n",
    "from nltk.tokenize import word_tokenize"
   ]
  },
  {
   "cell_type": "code",
   "execution_count": 115,
   "id": "d29445a0",
   "metadata": {},
   "outputs": [
    {
     "data": {
      "text/html": [
       "<div>\n",
       "<style scoped>\n",
       "    .dataframe tbody tr th:only-of-type {\n",
       "        vertical-align: middle;\n",
       "    }\n",
       "\n",
       "    .dataframe tbody tr th {\n",
       "        vertical-align: top;\n",
       "    }\n",
       "\n",
       "    .dataframe thead th {\n",
       "        text-align: right;\n",
       "    }\n",
       "</style>\n",
       "<table border=\"1\" class=\"dataframe\">\n",
       "  <thead>\n",
       "    <tr style=\"text-align: right;\">\n",
       "      <th></th>\n",
       "      <th>Unnamed: 0</th>\n",
       "      <th>body</th>\n",
       "      <th>text_clean</th>\n",
       "      <th>text_tokens</th>\n",
       "      <th>text_tokens_stem</th>\n",
       "    </tr>\n",
       "  </thead>\n",
       "  <tbody>\n",
       "    <tr>\n",
       "      <th>0</th>\n",
       "      <td>0</td>\n",
       "      <td>WASHINGTON - INTERPOL Washington, the United S...</td>\n",
       "      <td>washington interpol washington united states n...</td>\n",
       "      <td>[washington, interpol, washington, united, sta...</td>\n",
       "      <td>[washington, interpol, washington, unit, state...</td>\n",
       "    </tr>\n",
       "    <tr>\n",
       "      <th>1</th>\n",
       "      <td>1</td>\n",
       "      <td>WASHINGTON - A joint investigation between the...</td>\n",
       "      <td>washington joint investigation national oceani...</td>\n",
       "      <td>[washington, joint, investigation, national, o...</td>\n",
       "      <td>[washington, joint, investig, nation, ocean, a...</td>\n",
       "    </tr>\n",
       "    <tr>\n",
       "      <th>2</th>\n",
       "      <td>2</td>\n",
       "      <td>USDOJ: INTERPOL Washington: Updates\\n\\n \\n\\nDe...</td>\n",
       "      <td>usdoj interpol washington updatesdepartment ju...</td>\n",
       "      <td>[usdoj, interpol, washington, updatesdepartmen...</td>\n",
       "      <td>[usdoj, interpol, washington, updatesdepart, j...</td>\n",
       "    </tr>\n",
       "    <tr>\n",
       "      <th>3</th>\n",
       "      <td>3</td>\n",
       "      <td>USDOJ: INTERPOL Washington: Updates\\n\\n \\n\\n\\n...</td>\n",
       "      <td>usdoj interpol washington updatesdepartment ju...</td>\n",
       "      <td>[usdoj, interpol, washington, updatesdepartmen...</td>\n",
       "      <td>[usdoj, interpol, washington, updatesdepart, j...</td>\n",
       "    </tr>\n",
       "    <tr>\n",
       "      <th>4</th>\n",
       "      <td>4</td>\n",
       "      <td>WASHINGTON - The United States has extradited ...</td>\n",
       "      <td>washington united states extradited sulejman m...</td>\n",
       "      <td>[washington, united, states, extradited, sulej...</td>\n",
       "      <td>[washington, unit, state, extradit, sulejman, ...</td>\n",
       "    </tr>\n",
       "  </tbody>\n",
       "</table>\n",
       "</div>"
      ],
      "text/plain": [
       "   Unnamed: 0                                               body   \n",
       "0           0  WASHINGTON - INTERPOL Washington, the United S...  \\\n",
       "1           1  WASHINGTON - A joint investigation between the...   \n",
       "2           2  USDOJ: INTERPOL Washington: Updates\\n\\n \\n\\nDe...   \n",
       "3           3  USDOJ: INTERPOL Washington: Updates\\n\\n \\n\\n\\n...   \n",
       "4           4  WASHINGTON - The United States has extradited ...   \n",
       "\n",
       "                                          text_clean   \n",
       "0  washington interpol washington united states n...  \\\n",
       "1  washington joint investigation national oceani...   \n",
       "2  usdoj interpol washington updatesdepartment ju...   \n",
       "3  usdoj interpol washington updatesdepartment ju...   \n",
       "4  washington united states extradited sulejman m...   \n",
       "\n",
       "                                         text_tokens   \n",
       "0  [washington, interpol, washington, united, sta...  \\\n",
       "1  [washington, joint, investigation, national, o...   \n",
       "2  [usdoj, interpol, washington, updatesdepartmen...   \n",
       "3  [usdoj, interpol, washington, updatesdepartmen...   \n",
       "4  [washington, united, states, extradited, sulej...   \n",
       "\n",
       "                                    text_tokens_stem  \n",
       "0  [washington, interpol, washington, unit, state...  \n",
       "1  [washington, joint, investig, nation, ocean, a...  \n",
       "2  [usdoj, interpol, washington, updatesdepart, j...  \n",
       "3  [usdoj, interpol, washington, updatesdepart, j...  \n",
       "4  [washington, unit, state, extradit, sulejman, ...  "
      ]
     },
     "execution_count": 115,
     "metadata": {},
     "output_type": "execute_result"
    }
   ],
   "source": [
    "def word_stemmer(text):\n",
    "    stem_text = [PorterStemmer().stem(i) for i in text]\n",
    "    return stem_text\n",
    "data_clean['text_tokens_stem'] = data_clean['text_tokens'].apply(lambda x: word_stemmer(x))\n",
    "data_clean.head()"
   ]
  },
  {
   "cell_type": "markdown",
   "id": "9788b11a",
   "metadata": {},
   "source": [
    "### Lemmatization\n",
    "Reduce words to their root (\"lemma\") form. "
   ]
  },
  {
   "cell_type": "code",
   "execution_count": 116,
   "id": "2a83feab",
   "metadata": {},
   "outputs": [
    {
     "name": "stderr",
     "output_type": "stream",
     "text": [
      "[nltk_data] Downloading package wordnet to\n",
      "[nltk_data]     /Users/starrcorbin/nltk_data...\n"
     ]
    },
    {
     "data": {
      "text/html": [
       "<div>\n",
       "<style scoped>\n",
       "    .dataframe tbody tr th:only-of-type {\n",
       "        vertical-align: middle;\n",
       "    }\n",
       "\n",
       "    .dataframe tbody tr th {\n",
       "        vertical-align: top;\n",
       "    }\n",
       "\n",
       "    .dataframe thead th {\n",
       "        text-align: right;\n",
       "    }\n",
       "</style>\n",
       "<table border=\"1\" class=\"dataframe\">\n",
       "  <thead>\n",
       "    <tr style=\"text-align: right;\">\n",
       "      <th></th>\n",
       "      <th>Unnamed: 0</th>\n",
       "      <th>body</th>\n",
       "      <th>text_clean</th>\n",
       "      <th>text_tokens</th>\n",
       "      <th>text_tokens_stem</th>\n",
       "      <th>text_tokens_lemma</th>\n",
       "    </tr>\n",
       "  </thead>\n",
       "  <tbody>\n",
       "    <tr>\n",
       "      <th>0</th>\n",
       "      <td>0</td>\n",
       "      <td>WASHINGTON - INTERPOL Washington, the United S...</td>\n",
       "      <td>washington interpol washington united states n...</td>\n",
       "      <td>[washington, interpol, washington, united, sta...</td>\n",
       "      <td>[washington, interpol, washington, unit, state...</td>\n",
       "      <td>[washington, interpol, washington, united, sta...</td>\n",
       "    </tr>\n",
       "    <tr>\n",
       "      <th>1</th>\n",
       "      <td>1</td>\n",
       "      <td>WASHINGTON - A joint investigation between the...</td>\n",
       "      <td>washington joint investigation national oceani...</td>\n",
       "      <td>[washington, joint, investigation, national, o...</td>\n",
       "      <td>[washington, joint, investig, nation, ocean, a...</td>\n",
       "      <td>[washington, joint, investigation, national, o...</td>\n",
       "    </tr>\n",
       "    <tr>\n",
       "      <th>2</th>\n",
       "      <td>2</td>\n",
       "      <td>USDOJ: INTERPOL Washington: Updates\\n\\n \\n\\nDe...</td>\n",
       "      <td>usdoj interpol washington updatesdepartment ju...</td>\n",
       "      <td>[usdoj, interpol, washington, updatesdepartmen...</td>\n",
       "      <td>[usdoj, interpol, washington, updatesdepart, j...</td>\n",
       "      <td>[usdoj, interpol, washington, updatesdepartmen...</td>\n",
       "    </tr>\n",
       "    <tr>\n",
       "      <th>3</th>\n",
       "      <td>3</td>\n",
       "      <td>USDOJ: INTERPOL Washington: Updates\\n\\n \\n\\n\\n...</td>\n",
       "      <td>usdoj interpol washington updatesdepartment ju...</td>\n",
       "      <td>[usdoj, interpol, washington, updatesdepartmen...</td>\n",
       "      <td>[usdoj, interpol, washington, updatesdepart, j...</td>\n",
       "      <td>[usdoj, interpol, washington, updatesdepartmen...</td>\n",
       "    </tr>\n",
       "    <tr>\n",
       "      <th>4</th>\n",
       "      <td>4</td>\n",
       "      <td>WASHINGTON - The United States has extradited ...</td>\n",
       "      <td>washington united states extradited sulejman m...</td>\n",
       "      <td>[washington, united, states, extradited, sulej...</td>\n",
       "      <td>[washington, unit, state, extradit, sulejman, ...</td>\n",
       "      <td>[washington, united, state, extradited, sulejm...</td>\n",
       "    </tr>\n",
       "  </tbody>\n",
       "</table>\n",
       "</div>"
      ],
      "text/plain": [
       "   Unnamed: 0                                               body   \n",
       "0           0  WASHINGTON - INTERPOL Washington, the United S...  \\\n",
       "1           1  WASHINGTON - A joint investigation between the...   \n",
       "2           2  USDOJ: INTERPOL Washington: Updates\\n\\n \\n\\nDe...   \n",
       "3           3  USDOJ: INTERPOL Washington: Updates\\n\\n \\n\\n\\n...   \n",
       "4           4  WASHINGTON - The United States has extradited ...   \n",
       "\n",
       "                                          text_clean   \n",
       "0  washington interpol washington united states n...  \\\n",
       "1  washington joint investigation national oceani...   \n",
       "2  usdoj interpol washington updatesdepartment ju...   \n",
       "3  usdoj interpol washington updatesdepartment ju...   \n",
       "4  washington united states extradited sulejman m...   \n",
       "\n",
       "                                         text_tokens   \n",
       "0  [washington, interpol, washington, united, sta...  \\\n",
       "1  [washington, joint, investigation, national, o...   \n",
       "2  [usdoj, interpol, washington, updatesdepartmen...   \n",
       "3  [usdoj, interpol, washington, updatesdepartmen...   \n",
       "4  [washington, united, states, extradited, sulej...   \n",
       "\n",
       "                                    text_tokens_stem   \n",
       "0  [washington, interpol, washington, unit, state...  \\\n",
       "1  [washington, joint, investig, nation, ocean, a...   \n",
       "2  [usdoj, interpol, washington, updatesdepart, j...   \n",
       "3  [usdoj, interpol, washington, updatesdepart, j...   \n",
       "4  [washington, unit, state, extradit, sulejman, ...   \n",
       "\n",
       "                                   text_tokens_lemma  \n",
       "0  [washington, interpol, washington, united, sta...  \n",
       "1  [washington, joint, investigation, national, o...  \n",
       "2  [usdoj, interpol, washington, updatesdepartmen...  \n",
       "3  [usdoj, interpol, washington, updatesdepartmen...  \n",
       "4  [washington, united, state, extradited, sulejm...  "
      ]
     },
     "execution_count": 116,
     "metadata": {},
     "output_type": "execute_result"
    }
   ],
   "source": [
    "nltk.download('wordnet')\n",
    "from nltk.stem import WordNetLemmatizer\n",
    "\n",
    "def word_lemmatizer(text):\n",
    "    lem_text = [WordNetLemmatizer().lemmatize(i) for i in text]\n",
    "    return lem_text\n",
    "\n",
    "data_clean['text_tokens_lemma'] = data_clean['text_tokens'].apply(lambda x: word_lemmatizer(x))\n",
    "data_clean.head()"
   ]
  },
  {
   "cell_type": "markdown",
   "id": "ae0ba1f3",
   "metadata": {},
   "source": [
    "### Part of Speech (POS) tagging and chunking\n",
    "Part of speech (POS) tagging is a method to categorise words which gives some information relating to the way in which that word is used in speech."
   ]
  },
  {
   "cell_type": "code",
   "execution_count": 117,
   "id": "1fbc27c9",
   "metadata": {},
   "outputs": [
    {
     "name": "stderr",
     "output_type": "stream",
     "text": [
      "[nltk_data] Downloading package averaged_perceptron_tagger to\n",
      "[nltk_data]     /Users/starrcorbin/nltk_data...\n",
      "[nltk_data]   Unzipping taggers/averaged_perceptron_tagger.zip.\n"
     ]
    },
    {
     "data": {
      "text/html": [
       "<div>\n",
       "<style scoped>\n",
       "    .dataframe tbody tr th:only-of-type {\n",
       "        vertical-align: middle;\n",
       "    }\n",
       "\n",
       "    .dataframe tbody tr th {\n",
       "        vertical-align: top;\n",
       "    }\n",
       "\n",
       "    .dataframe thead th {\n",
       "        text-align: right;\n",
       "    }\n",
       "</style>\n",
       "<table border=\"1\" class=\"dataframe\">\n",
       "  <thead>\n",
       "    <tr style=\"text-align: right;\">\n",
       "      <th></th>\n",
       "      <th>Unnamed: 0</th>\n",
       "      <th>body</th>\n",
       "      <th>text_clean</th>\n",
       "      <th>text_tokens</th>\n",
       "      <th>text_tokens_stem</th>\n",
       "      <th>text_tokens_lemma</th>\n",
       "      <th>text_tokens_pos_tagged</th>\n",
       "    </tr>\n",
       "  </thead>\n",
       "  <tbody>\n",
       "    <tr>\n",
       "      <th>0</th>\n",
       "      <td>0</td>\n",
       "      <td>WASHINGTON - INTERPOL Washington, the United S...</td>\n",
       "      <td>washington interpol washington united states n...</td>\n",
       "      <td>[washington, interpol, washington, united, sta...</td>\n",
       "      <td>[washington, interpol, washington, unit, state...</td>\n",
       "      <td>[washington, interpol, washington, united, sta...</td>\n",
       "      <td>[(washington, NN), (interpol, VBZ), (washingto...</td>\n",
       "    </tr>\n",
       "    <tr>\n",
       "      <th>1</th>\n",
       "      <td>1</td>\n",
       "      <td>WASHINGTON - A joint investigation between the...</td>\n",
       "      <td>washington joint investigation national oceani...</td>\n",
       "      <td>[washington, joint, investigation, national, o...</td>\n",
       "      <td>[washington, joint, investig, nation, ocean, a...</td>\n",
       "      <td>[washington, joint, investigation, national, o...</td>\n",
       "      <td>[(washington, NN), (joint, NN), (investigation...</td>\n",
       "    </tr>\n",
       "    <tr>\n",
       "      <th>2</th>\n",
       "      <td>2</td>\n",
       "      <td>USDOJ: INTERPOL Washington: Updates\\n\\n \\n\\nDe...</td>\n",
       "      <td>usdoj interpol washington updatesdepartment ju...</td>\n",
       "      <td>[usdoj, interpol, washington, updatesdepartmen...</td>\n",
       "      <td>[usdoj, interpol, washington, updatesdepart, j...</td>\n",
       "      <td>[usdoj, interpol, washington, updatesdepartmen...</td>\n",
       "      <td>[(usdoj, JJ), (interpol, NN), (washington, NN)...</td>\n",
       "    </tr>\n",
       "    <tr>\n",
       "      <th>3</th>\n",
       "      <td>3</td>\n",
       "      <td>USDOJ: INTERPOL Washington: Updates\\n\\n \\n\\n\\n...</td>\n",
       "      <td>usdoj interpol washington updatesdepartment ju...</td>\n",
       "      <td>[usdoj, interpol, washington, updatesdepartmen...</td>\n",
       "      <td>[usdoj, interpol, washington, updatesdepart, j...</td>\n",
       "      <td>[usdoj, interpol, washington, updatesdepartmen...</td>\n",
       "      <td>[(usdoj, JJ), (interpol, NN), (washington, NN)...</td>\n",
       "    </tr>\n",
       "    <tr>\n",
       "      <th>4</th>\n",
       "      <td>4</td>\n",
       "      <td>WASHINGTON - The United States has extradited ...</td>\n",
       "      <td>washington united states extradited sulejman m...</td>\n",
       "      <td>[washington, united, states, extradited, sulej...</td>\n",
       "      <td>[washington, unit, state, extradit, sulejman, ...</td>\n",
       "      <td>[washington, united, state, extradited, sulejm...</td>\n",
       "      <td>[(washington, NN), (united, JJ), (states, NNS)...</td>\n",
       "    </tr>\n",
       "  </tbody>\n",
       "</table>\n",
       "</div>"
      ],
      "text/plain": [
       "   Unnamed: 0                                               body   \n",
       "0           0  WASHINGTON - INTERPOL Washington, the United S...  \\\n",
       "1           1  WASHINGTON - A joint investigation between the...   \n",
       "2           2  USDOJ: INTERPOL Washington: Updates\\n\\n \\n\\nDe...   \n",
       "3           3  USDOJ: INTERPOL Washington: Updates\\n\\n \\n\\n\\n...   \n",
       "4           4  WASHINGTON - The United States has extradited ...   \n",
       "\n",
       "                                          text_clean   \n",
       "0  washington interpol washington united states n...  \\\n",
       "1  washington joint investigation national oceani...   \n",
       "2  usdoj interpol washington updatesdepartment ju...   \n",
       "3  usdoj interpol washington updatesdepartment ju...   \n",
       "4  washington united states extradited sulejman m...   \n",
       "\n",
       "                                         text_tokens   \n",
       "0  [washington, interpol, washington, united, sta...  \\\n",
       "1  [washington, joint, investigation, national, o...   \n",
       "2  [usdoj, interpol, washington, updatesdepartmen...   \n",
       "3  [usdoj, interpol, washington, updatesdepartmen...   \n",
       "4  [washington, united, states, extradited, sulej...   \n",
       "\n",
       "                                    text_tokens_stem   \n",
       "0  [washington, interpol, washington, unit, state...  \\\n",
       "1  [washington, joint, investig, nation, ocean, a...   \n",
       "2  [usdoj, interpol, washington, updatesdepart, j...   \n",
       "3  [usdoj, interpol, washington, updatesdepart, j...   \n",
       "4  [washington, unit, state, extradit, sulejman, ...   \n",
       "\n",
       "                                   text_tokens_lemma   \n",
       "0  [washington, interpol, washington, united, sta...  \\\n",
       "1  [washington, joint, investigation, national, o...   \n",
       "2  [usdoj, interpol, washington, updatesdepartmen...   \n",
       "3  [usdoj, interpol, washington, updatesdepartmen...   \n",
       "4  [washington, united, state, extradited, sulejm...   \n",
       "\n",
       "                              text_tokens_pos_tagged  \n",
       "0  [(washington, NN), (interpol, VBZ), (washingto...  \n",
       "1  [(washington, NN), (joint, NN), (investigation...  \n",
       "2  [(usdoj, JJ), (interpol, NN), (washington, NN)...  \n",
       "3  [(usdoj, JJ), (interpol, NN), (washington, NN)...  \n",
       "4  [(washington, NN), (united, JJ), (states, NNS)...  "
      ]
     },
     "execution_count": 117,
     "metadata": {},
     "output_type": "execute_result"
    }
   ],
   "source": [
    "def word_pos_tagger(text):\n",
    "    pos_tagged_text = nltk.pos_tag(text)\n",
    "    return pos_tagged_text\n",
    "\n",
    "nltk.download('averaged_perceptron_tagger')\n",
    "\n",
    "data_clean['text_tokens_pos_tagged'] = data_clean['text_tokens'].apply(lambda x: word_pos_tagger(x))\n",
    "data_clean.head()"
   ]
  },
  {
   "cell_type": "code",
   "execution_count": null,
   "id": "5f57ec38",
   "metadata": {},
   "outputs": [],
   "source": []
  }
 ],
 "metadata": {
  "kernelspec": {
   "display_name": "Python 3 (ipykernel)",
   "language": "python",
   "name": "python3"
  },
  "language_info": {
   "codemirror_mode": {
    "name": "ipython",
    "version": 3
   },
   "file_extension": ".py",
   "mimetype": "text/x-python",
   "name": "python",
   "nbconvert_exporter": "python",
   "pygments_lexer": "ipython3",
   "version": "3.10.11"
  }
 },
 "nbformat": 4,
 "nbformat_minor": 5
}
